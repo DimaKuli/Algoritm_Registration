{
 "cells": [
  {
   "cell_type": "markdown",
   "id": "fd2ace29",
   "metadata": {},
   "source": [
    "# Создаем 2 файла (Before, After) в 3D представлении"
   ]
  },
  {
   "cell_type": "code",
   "execution_count": 1,
   "id": "9ba083fb",
   "metadata": {},
   "outputs": [],
   "source": [
    "# Нужные библиотеки\n",
    "import SimpleITK as sitk\n",
    "import itk\n",
    "import numpy as np\n",
    "import os\n",
    "import pydicom\n",
    "from pydicom.dataset import Dataset\n",
    "from pydicom.uid import ExplicitVRLittleEndian\n",
    "import pydicom._storage_sopclass_uids"
   ]
  },
  {
   "cell_type": "markdown",
   "id": "a4d1d4fe",
   "metadata": {},
   "source": [
    "### Основа, 2 пути к исследованиям"
   ]
  },
  {
   "cell_type": "code",
   "execution_count": 21,
   "id": "e45a0b81",
   "metadata": {},
   "outputs": [],
   "source": [
    "# пути к директориям\n",
    "dir_cont = '/home/dima/ИИ Работа/ГБУЗ/Датасеты/Рег_иссл-ия/АВП_Данные/П-й Цистернография/After/'\n",
    "dir_base = '/home/dima/ИИ Работа/ГБУЗ/Датасеты/Рег_иссл-ия/АВП_Данные/П-й Цистернография/Before/'"
   ]
  },
  {
   "cell_type": "markdown",
   "id": "097725d5",
   "metadata": {},
   "source": [
    "## Изображение в S_ITK"
   ]
  },
  {
   "cell_type": "markdown",
   "id": "f17722ea",
   "metadata": {},
   "source": [
    "*Функция для перевода серии исследований dicom в изображениe SimpleITK*"
   ]
  },
  {
   "cell_type": "code",
   "execution_count": 4,
   "id": "b178a0e5",
   "metadata": {},
   "outputs": [],
   "source": [
    "def dcm2img (dir_dcm):\n",
    "    ''' \n",
    "    dir_dcm - путь к папке с dicom срезами\n",
    "    ---------------------------------------------------------\n",
    "    return:\n",
    "    image - SimpleITK изобр-ие\n",
    "    '''\n",
    "    reader = sitk.ImageSeriesReader()\n",
    "    dicom_names = reader.GetGDCMSeriesFileNames(dir_dcm)\n",
    "    reader.SetFileNames(dicom_names)\n",
    "    image = reader.Execute()\n",
    "    \n",
    "    return image"
   ]
  },
  {
   "cell_type": "markdown",
   "id": "c28dddeb",
   "metadata": {},
   "source": [
    "1. IMG_1 - это исследование с констрастом.\n",
    "2. IMG_2 - без контраста.\n",
    "\n",
    "В нашем случае, мы реализуем подход приведение исследования без контраста к контрастированному. На практике, так сработало лучше."
   ]
  },
  {
   "cell_type": "code",
   "execution_count": 22,
   "id": "94186bbc",
   "metadata": {},
   "outputs": [],
   "source": [
    "# Получаем изображения\n",
    "img_1 = dcm2img(dir_cont) # Контраст\n",
    "img_2 = dcm2img(dir_base)"
   ]
  },
  {
   "cell_type": "markdown",
   "id": "dc63fdd1",
   "metadata": {},
   "source": [
    "## Получение тегов dicom'в из директории с контрастом"
   ]
  },
  {
   "cell_type": "code",
   "execution_count": 6,
   "id": "ebd0c123",
   "metadata": {},
   "outputs": [],
   "source": [
    "def get_tags_dcm (dir_dcm):\n",
    "    \"\"\"\n",
    "    Param:\n",
    "    dir_dcm - путь к папке с dicom срезами\n",
    "    -------------------------------------\n",
    "    return:\n",
    "    tags - словарь с тегами, из 1го файла\n",
    "    tags_sp - словарь с тегами о пространственном положение среза (индивидуальный)\n",
    "    \"\"\"\n",
    "    dcm_files = os.listdir(dir_dcm)\n",
    "    dcm_file_paths = [os.path.join(dir_dcm, file) for file in dcm_files]\n",
    "    dcm_reads = sorted(dcm_file_paths, key=lambda file: pydicom.dcmread(file).InstanceNumber)\n",
    "    \n",
    "    \n",
    "    dcm_file = pydicom.dcmread(dcm_file_paths[0])\n",
    "    all_attributes = dir(dcm_file)\n",
    "    add_attributes = [attr for attr in all_attributes if attr.startswith('Image') or attr.startswith('Series')  \n",
    "                      or attr.startswith('Study')or attr.startswith('Bits') or attr.startswith('PixelSpacing') \n",
    "                      or attr.startswith('Bits') or attr.startswith('PixelRepresentation') or \n",
    "                      attr.startswith('Rescale') or attr.startswith('Slice') or attr.startswith('SamplesPerPixel')]\n",
    "    \n",
    "    tags = {} \n",
    "    for attr in add_attributes:\n",
    "        value = getattr(dcm_file, attr)\n",
    "        tags[attr] = value\n",
    "        \n",
    "    tags_sp = {}\n",
    "    for ind, sl_path in enumerate(dcm_reads):\n",
    "        dcm_im = pydicom.dcmread(sl_path)\n",
    "        value = dcm_im.ImagePositionPatient\n",
    "        tags_sp[ind] = value\n",
    "    \n",
    "    return tags, tags_sp"
   ]
  },
  {
   "cell_type": "code",
   "execution_count": 24,
   "id": "19d1d3fe",
   "metadata": {},
   "outputs": [],
   "source": [
    "# на выходе у нас 2 словаря, один с общими тегами, второй с тегами для каждого среза в отдельности\n",
    "# теги забираются из иссл-ия с контрастом\n",
    "tags, tags_sp = get_tags_dcm(dir_cont)"
   ]
  },
  {
   "cell_type": "markdown",
   "id": "39b9c583",
   "metadata": {},
   "source": [
    "## IMG_S в ITK_IMG"
   ]
  },
  {
   "cell_type": "markdown",
   "id": "0fb20b6e",
   "metadata": {},
   "source": [
    "*С помощью numpy переводим изображения SimpleITK в Elastix_img и восстанавливаем пространственные значения*"
   ]
  },
  {
   "cell_type": "code",
   "execution_count": 8,
   "id": "648d1074",
   "metadata": {},
   "outputs": [],
   "source": [
    "def img_s_to_img_itk (img_s):\n",
    "    \n",
    "    ''' \n",
    "    img_s - SimpleITK изображение\n",
    "    '''\n",
    "    array_img_SITK = sitk.GetArrayFromImage(img_s)\n",
    "    array_img_SITK = array_img_SITK.astype(np.float32)\n",
    "\n",
    "    itk_img = itk.image_view_from_array(array_img_SITK, is_vector=False)\n",
    "\n",
    "    origin_s = img_s.GetOrigin()\n",
    "    spacing_s = img_s.GetSpacing()\n",
    "    direction_s = img_s.GetDirection()\n",
    "    direction_s = np.array(direction_s)\n",
    "    direction_s = np.resize(direction_s, (3,3))\n",
    "\n",
    "    itk_img.SetOrigin(origin_s)\n",
    "    itk_img.SetSpacing(spacing_s)\n",
    "    itk_img.SetDirection(direction_s)\n",
    "    \n",
    "    return itk_img"
   ]
  },
  {
   "cell_type": "code",
   "execution_count": 9,
   "id": "0c8726e2",
   "metadata": {},
   "outputs": [],
   "source": [
    "# Делаем перевод в 2 изображения для регистрации (Elastix)\n",
    "itk_img_1 = img_s_to_img_itk(img_1)\n",
    "itk_img_2 = img_s_to_img_itk(img_2)"
   ]
  },
  {
   "cell_type": "markdown",
   "id": "bcce66ad",
   "metadata": {},
   "source": [
    "## Registration старт"
   ]
  },
  {
   "cell_type": "markdown",
   "id": "4bc5773b",
   "metadata": {},
   "source": [
    "**Карта трансформаций: translation -> affine -> bspline**"
   ]
  },
  {
   "cell_type": "markdown",
   "id": "3984d6f5",
   "metadata": {},
   "source": [
    "*Настраиваем параметры для регистрации, устанавливаем к какому исследованию делать преобразования*"
   ]
  },
  {
   "cell_type": "code",
   "execution_count": 10,
   "id": "c3b5cf81",
   "metadata": {},
   "outputs": [],
   "source": [
    "def reg_Elastix (img_1, img_2):\n",
    "    \n",
    "    parameter_object = itk.ParameterObject.New()\n",
    "\n",
    "    parameter_map_translation = parameter_object.GetDefaultParameterMap('translation')\n",
    "    parameter_object.AddParameterMap(parameter_map_translation)\n",
    "\n",
    "    parameter_map_affine = parameter_object.GetDefaultParameterMap('affine')\n",
    "    parameter_object.AddParameterMap(parameter_map_affine)\n",
    "\n",
    "    resolutions = 5\n",
    "    Grid_Spacing_PhysicalUnits = 15.0\n",
    "    parameter_map_bspline = parameter_object.GetDefaultParameterMap('bspline', resolutions, Grid_Spacing_PhysicalUnits)\n",
    "    parameter_object.AddParameterMap(parameter_map_bspline)\n",
    "    \n",
    "\n",
    "    elastix_object = itk.ElastixRegistrationMethod.New(img_1, img_2)\n",
    "    elastix_object.SetFixedImage(img_1)\n",
    "    elastix_object.SetMovingImage(img_2)\n",
    "\n",
    "    elastix_object.SetParameterObject(parameter_object)\n",
    "    elastix_object.SetLogToConsole(False)\n",
    "\n",
    "    elastix_object.UpdateLargestPossibleRegion()\n",
    "    \n",
    "    result_image = elastix_object.GetOutput()\n",
    "    return result_image"
   ]
  },
  {
   "cell_type": "code",
   "execution_count": 11,
   "id": "9e36aec1",
   "metadata": {},
   "outputs": [],
   "source": [
    "# проводим регистрацию и забираем результат в переменную reg_img\n",
    "reg_img = reg_Elastix(itk_img_1, itk_img_2)"
   ]
  },
  {
   "cell_type": "markdown",
   "id": "4f5d84ac",
   "metadata": {},
   "source": [
    "### REG_SUB TO DICOM SERIES"
   ]
  },
  {
   "cell_type": "code",
   "execution_count": 12,
   "id": "186ccc6f",
   "metadata": {},
   "outputs": [],
   "source": [
    "def img_to_dcm(img, out_dir, tags, tags_sp, type_translate = 'Reg' ): \n",
    "    \n",
    "    '''\n",
    "    Params:\n",
    "    img - Изобр-ие с регистрацией ITK Elastix или с Субстракцией SimpleITK \n",
    "    out_dir - Путь для сохранения срезов dicom\n",
    "    tags - теги для присвоения dicom срезам\n",
    "    tags_sp - теги с пространственным положенинм каждого среза для корректного открытия в просмотровщике\n",
    "    type_translate = это для регистрации или субстракции?\n",
    "    '''\n",
    "    \n",
    "    if type_translate == 'Reg':\n",
    "        array = itk.array_from_image(img)\n",
    "    else:\n",
    "        array = sitk.GetArrayFromImage(img)\n",
    "    \n",
    "    meta = pydicom.Dataset()\n",
    "    meta.MediaStorageSOPClassUID = pydicom._storage_sopclass_uids.CTImageStorage\n",
    "    meta.MediaStorageSOPInstanceUID = pydicom.uid.generate_uid()\n",
    "    meta.TransferSyntaxUID = pydicom.uid.ExplicitVRLittleEndian\n",
    "    \n",
    "    for i in range(array.shape[0]):\n",
    "        slice_image = array[i, :, :]\n",
    "        slice_image = slice_image.astype(np.uint16)\n",
    "        \n",
    "        dataset_slice = Dataset()\n",
    "        dataset_slice.file_meta = meta\n",
    "    \n",
    "        dataset_slice.SOPClassUID = pydicom._storage_sopclass_uids.CTImageStorage \n",
    "        dataset_slice.Modality = 'CT'\n",
    "        \n",
    "        if type_translate == 'Reg':\n",
    "            dataset_slice.PatientName = 'Registration_image'\n",
    "        else:\n",
    "            dataset_slice.PatientName = 'Subtract_image'\n",
    "        \n",
    "        dataset_slice.PatientID = ''\n",
    "        dataset_slice.PatientBirthDate = ''\n",
    "        dataset_slice.PatientSex = ''\n",
    "        \n",
    "        dataset_slice.Rows, dataset_slice.Columns = slice_image.shape\n",
    "        dataset_slice.PixelData = slice_image.tobytes()\n",
    "        dataset_slice.InstanceNumber = i+1\n",
    "        \n",
    "        for tag, value in tags.items():\n",
    "            setattr(dataset_slice, tag, value)\n",
    "            \n",
    "        for tag, value in tags_sp.items():\n",
    "            dataset_slice.ImagePositionPatient = tags_sp[i]\n",
    "            \n",
    "        pydicom.dataset.validate_file_meta(dataset_slice.file_meta, enforce_standard=True)\n",
    "        \n",
    "        file_path = os.path.join(out_dir, f'slice_{i}.dcm')\n",
    "        dataset_slice.save_as(file_path)"
   ]
  },
  {
   "cell_type": "code",
   "execution_count": 14,
   "id": "722b367c",
   "metadata": {},
   "outputs": [],
   "source": [
    "# путь для сохранения регистрации\n",
    "out_dir = '/home/dima/ИИ Работа/ГБУЗ/Датасеты/Рег_иссл-ия/АВП_Данные/П-й Цистернография/TEST_DCM/'"
   ]
  },
  {
   "cell_type": "code",
   "execution_count": 15,
   "id": "1f6c530a",
   "metadata": {},
   "outputs": [],
   "source": [
    "# вызов без приспоения\n",
    "img_to_dcm(reg_img, out_dir, tags, tags_sp)"
   ]
  },
  {
   "cell_type": "markdown",
   "id": "cf4464eb",
   "metadata": {},
   "source": [
    "## Substract"
   ]
  },
  {
   "cell_type": "markdown",
   "id": "65fef2e6",
   "metadata": {},
   "source": [
    "**IMG_1 - REG**"
   ]
  },
  {
   "cell_type": "code",
   "execution_count": 17,
   "id": "bf009272",
   "metadata": {},
   "outputs": [],
   "source": [
    "def subtact (reg_img, img_1, out_dir_sub):\n",
    "    '''\n",
    "    reg_img - изобр-ие с регистрацией ITK Elastix\n",
    "    img_1 - изобр-ие c контрастом, к нему выполняется регистрация, явл-ся SimpleITK_IMG\n",
    "    -----------\n",
    "    return: \n",
    "    sub_image -> func(img_to_dcm) -> возвращаем серию срезов dicom\n",
    "    '''\n",
    "    reg_arr = itk.GetArrayViewFromImage(reg_img).astype(float)\n",
    "    reg_sitk = sitk.GetImageFromArray(reg_arr)\n",
    "    \n",
    "    origin_s = img_1.GetOrigin()\n",
    "    spacing_s = img_1.GetSpacing()\n",
    "    direction_s = img_1.GetDirection()\n",
    "    \n",
    "    reg_sitk.SetOrigin(origin_s)\n",
    "    reg_sitk.SetSpacing(spacing_s)\n",
    "    reg_sitk.SetDirection(direction_s)\n",
    "    \n",
    "    img_1 = sitk.Cast(img_1, sitk.sitkFloat32)\n",
    "    reg_sitk = sitk.Cast(reg_sitk, img_1.GetPixelIDValue())\n",
    "    \n",
    "    sub_image = sitk.Subtract(img_1, reg_sitk)\n",
    "    \n",
    "    # функция сохранения внутри\n",
    "    img_to_dcm(sub_image, out_dir_sub, tags, tags_sp, type_translate = 'Sub')"
   ]
  },
  {
   "cell_type": "code",
   "execution_count": 25,
   "id": "4b78f356",
   "metadata": {},
   "outputs": [],
   "source": [
    "# Для исследования с субстракцией, создаем другую директорию:\n",
    "out_dir_sub = '/home/dima/ИИ Работа/ГБУЗ/Датасеты/Рег_иссл-ия/АВП_Данные/П-й Цистернография/SUB_TEST/'"
   ]
  },
  {
   "cell_type": "code",
   "execution_count": null,
   "id": "b5c9d33e",
   "metadata": {},
   "outputs": [],
   "source": [
    "# вызов субстракции\n",
    "subtact(reg_img, img_1, out_dir_sub)"
   ]
  },
  {
   "cell_type": "code",
   "execution_count": null,
   "id": "76e6c3fa",
   "metadata": {},
   "outputs": [],
   "source": []
  }
 ],
 "metadata": {
  "kernelspec": {
   "display_name": "Python 3 (ipykernel)",
   "language": "python",
   "name": "python3"
  },
  "language_info": {
   "codemirror_mode": {
    "name": "ipython",
    "version": 3
   },
   "file_extension": ".py",
   "mimetype": "text/x-python",
   "name": "python",
   "nbconvert_exporter": "python",
   "pygments_lexer": "ipython3",
   "version": "3.10.6"
  }
 },
 "nbformat": 4,
 "nbformat_minor": 5
}
